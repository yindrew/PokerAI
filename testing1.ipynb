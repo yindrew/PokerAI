{
 "cells": [
  {
   "cell_type": "code",
   "execution_count": 11,
   "metadata": {},
   "outputs": [],
   "source": [
    "# get the embedding of the card\n",
    "def encode_card(card):\n",
    "    # Define suits and ranks\n",
    "    suits = ['s', 'c', 'd', 'h']\n",
    "    ranks = ['2', '3', '4', '5', '6', '7', '8', '9', 'T', 'J', 'Q', 'K', 'A']\n",
    "    \n",
    "    # Split the card into rank and suit\n",
    "    rank, suit = card[0], card[1]\n",
    "    \n",
    "    # Calculate index\n",
    "    suit_index = suits.index(suit)\n",
    "    rank_index = ranks.index(rank)\n",
    "\n",
    "    return suit_index * len(ranks) + rank_index"
   ]
  },
  {
   "cell_type": "code",
   "execution_count": 12,
   "metadata": {},
   "outputs": [
    {
     "name": "stdout",
     "output_type": "stream",
     "text": [
      "[38, 12, 46, 34, 11, 0, 0]\n"
     ]
    }
   ],
   "source": [
    "hand = [\"Ad\", \"As\"]\n",
    "board = [\"9h\", \"Td\", \"Ks\"]\n",
    "\n",
    "all_card_indices = [encode_card(card) for card in hand] + [encode_card(card) for card in board] + [-1] * (5 - len(board))\n",
    "\n",
    "print(all_card_indices)\n",
    "\n",
    "\n"
   ]
  },
  {
   "cell_type": "code",
   "execution_count": null,
   "metadata": {},
   "outputs": [],
   "source": []
  }
 ],
 "metadata": {
  "kernelspec": {
   "display_name": "Python 3",
   "language": "python",
   "name": "python3"
  },
  "language_info": {
   "codemirror_mode": {
    "name": "ipython",
    "version": 3
   },
   "file_extension": ".py",
   "mimetype": "text/x-python",
   "name": "python",
   "nbconvert_exporter": "python",
   "pygments_lexer": "ipython3",
   "version": "3.11.4"
  }
 },
 "nbformat": 4,
 "nbformat_minor": 2
}
